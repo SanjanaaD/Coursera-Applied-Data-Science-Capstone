{
 "cells": [
  {
   "cell_type": "markdown",
   "metadata": {},
   "source": [
    "# Applied Data Science Capstone Week 5"
   ]
  },
  {
   "cell_type": "markdown",
   "metadata": {},
   "source": [
    "### Introduction to the problem"
   ]
  },
  {
   "cell_type": "markdown",
   "metadata": {},
   "source": [
    "Fredericton, the Canadian city, provides open data for everyone to use and make insightful inferences for the benefit of both its people and others.\n",
    "\n",
    "The readily available data allows analysis to be done in order to find answers to questions related to crime rates, locations and venues. For example, analysis can be done to find crime frequency, highest crime rates in neighbourbhoods, correlation amongt crime rates and various factors, popular locations with population and similarities, etc.\n",
    "\n",
    "The convenience of the readily available data and its structured format along with the varaible infereneces possible are what encouraged me to take this up as my problem for analysis."
   ]
  }
 ],
 "metadata": {
  "kernelspec": {
   "display_name": "Python 3",
   "language": "python",
   "name": "python3"
  },
  "language_info": {
   "codemirror_mode": {
    "name": "ipython",
    "version": 3
   },
   "file_extension": ".py",
   "mimetype": "text/x-python",
   "name": "python",
   "nbconvert_exporter": "python",
   "pygments_lexer": "ipython3",
   "version": "3.6.8"
  }
 },
 "nbformat": 4,
 "nbformat_minor": 2
}
